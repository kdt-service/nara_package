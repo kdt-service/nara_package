{
 "cells": [
  {
   "attachments": {},
   "cell_type": "markdown",
   "metadata": {},
   "source": [
    "# pandas method ,function from project2"
   ]
  },
  {
   "cell_type": "markdown",
   "metadata": {},
   "source": [
    "#####  데이터프레임(DataFrame) 인덱싱(Indexing) 방법"
   ]
  },
  {
   "cell_type": "code",
   "execution_count": null,
   "metadata": {},
   "outputs": [],
   "source": [
    "#loc[]은 인덱스(Index)를 기준으로 행(row)을 선택할 때 사용. loc[]은 인덱스 이름(라벨)을 이용하여 행을 선택. 즉, loc[]은 인덱스의 이름으로 행을 선택.\n",
    "\n",
    ".loc[]\n",
    "\n",
    "#iloc[]은 위치 기반 인덱싱을 이용하여 행(row)을 선택할 때 사용. 즉, iloc[]은 정수형 인덱스(0부터 시작)를 이용하여 행을 선택.\n",
    "\n",
    ".iloc[int] "
   ]
  },
  {
   "attachments": {},
   "cell_type": "markdown",
   "metadata": {},
   "source": [
    "##### 결측치 관련 (null, NaN)"
   ]
  },
  {
   "cell_type": "code",
   "execution_count": null,
   "metadata": {},
   "outputs": [],
   "source": [
    ".notnull(), .isnull() # null, NaN 값이 있는지 없는지 True or False 로 보여줌\n",
    "\n",
    ".fillna() # () 안에 값으로 null, NaN 값을 채워줌 \n",
    "\n",
    "# Ex \n",
    "a = data_frame.loc[(data_frame['column_name'] < 10.5) & data_frame['column_name'].notnull()]\n",
    "\n",
    "b = data_frame[data_frame['column_name'].str.contains('conditional')]['column_name'].fillna(conditional)\n",
    "\n",
    "# Ex+\n",
    "\n",
    "data_frame['column_name'].isnull().sum() # 특정 컬럼에 널값의 합 -> 널값의 유무를 확인하는 코드"
   ]
  },
  {
   "attachments": {},
   "cell_type": "markdown",
   "metadata": {},
   "source": [
    "##### ---"
   ]
  },
  {
   "cell_type": "code",
   "execution_count": null,
   "metadata": {},
   "outputs": [],
   "source": [
    "# 특정 데이터프레임에 특정 칼럼에 str 형 메서드를 사용할수 있게 만들어주는 .str\n",
    "# .contains 는 () 안에 조건을 넣어서 조건에 만족하는 값을 보여줌\n",
    "\n",
    "a = data_frame['column_name'].str.contains('conditional')"
   ]
  },
  {
   "cell_type": "code",
   "execution_count": null,
   "metadata": {},
   "outputs": [],
   "source": [
    "# corr() 메서드는 Pandas 라이브러리에서 제공되는 데이터프레임(DataFrame) 메서드 중 하나로,\n",
    "# 각 열(column)간의 상관관계(correlation)를 계산해주는 함수.\n",
    "\n",
    ".corr()"
   ]
  },
  {
   "cell_type": "code",
   "execution_count": null,
   "metadata": {},
   "outputs": [],
   "source": [
    "# .get_dummies()는 Pandas 라이브러리에서 제공되는 함수 중 하나로, 범주형(categorical) 변수를 이진형(dummies) 변수로 변환해주는 함수. \n",
    "# 입력된 데이터에서 범주형 변수의 각 값에 대해 0 또는 1의 값을 가지는 새로운 컬럼을 생성합니다.\n",
    "# onehotencoding 을 pandas 를 통해서 할수있도록 만든 함수\n",
    "\n",
    ".get_dummies()\n",
    "\n",
    "a = pandas.get_dummies(data_frame, columns=['column_name'])"
   ]
  },
  {
   "cell_type": "code",
   "execution_count": null,
   "metadata": {},
   "outputs": [],
   "source": [
    "# import re\n",
    "# 데이터 프레임에서 특정 칼럼에 값을 re.findall(r'~', x)) '~'만 남기고 전부 없애는 코드\n",
    "\n",
    "data_frame['column_name'] = data_frame['column_name'].apply(lambda x: ''.join(re.findall(r'\\d+', x))) #  숫자만 남기기\n",
    "\n",
    "data_frame['column_name'] = data_frame['column_name'].apply(lambda x: ''.join(re.findall(r'\\w+', x))) #  [a-zA-Z] 만남기기\n",
    "\n",
    "#다양한 정규표현식을 이용해서 원하는 값만 남길수 있음"
   ]
  },
  {
   "cell_type": "code",
   "execution_count": null,
   "metadata": {},
   "outputs": [],
   "source": []
  }
 ],
 "metadata": {
  "language_info": {
   "name": "python"
  },
  "orig_nbformat": 4
 },
 "nbformat": 4,
 "nbformat_minor": 2
}
