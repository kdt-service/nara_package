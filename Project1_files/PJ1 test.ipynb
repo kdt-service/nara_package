{
 "cells": [
  {
   "cell_type": "code",
   "execution_count": 4,
   "metadata": {},
   "outputs": [],
   "source": [
    "# 2022 DRX 선수들의 선수별 챔피언 데이터 "
   ]
  },
  {
   "cell_type": "code",
   "execution_count": 12,
   "metadata": {},
   "outputs": [],
   "source": [
    "def DRX():\n",
    "\n",
    "\n",
    "    from selenium import webdriver\n",
    "    from selenium.webdriver.chrome.service import Service\n",
    "    from selenium.webdriver.common.by import By\n",
    "    from selenium.webdriver.common.keys import Keys\n",
    "    from webdriver_manager.chrome import ChromeDriverManager\n",
    "    driver = webdriver.Chrome(service=Service(ChromeDriverManager().install()))\n",
    "    import time\n",
    "    import re\n",
    "\n",
    "\n",
    "    driver.get('https://lol.inven.co.kr/dataninfo/match/playerList.php')\n",
    "\n",
    "    players = [\n",
    "        'DRX Kingen',\n",
    "        'DRX Pyosik',\n",
    "        'DRX Zeka',\n",
    "        'DRX Deft',\n",
    "        'DRX BeryL'\n",
    "        ]\n",
    "    \n",
    "    players2 = {\n",
    "        'DRX Kingen' : [],\n",
    "        'DRX Pyosik' : [],\n",
    "        'DRX Zeka' : [],\n",
    "        'DRX Deft' : [],\n",
    "        'DRX BeryL' : []\n",
    "        }   \n",
    "\n",
    "    for n in range(5):\n",
    "        \n",
    "        find_player = driver.find_element(By.XPATH, '//*[@id=\"playerName\"]')\n",
    "        find_player.clear()\n",
    "        find_player.send_keys(players[n])\n",
    "        find_player.send_keys(Keys.RETURN)  \n",
    "\n",
    "        add_list = driver.find_element(By.XPATH, '//*[@id=\"morelinetr\"]/td[1]/a/b' )\n",
    "        add_list.click()\n",
    "        \n",
    "        time.sleep(1.5)\n",
    "\n",
    "        DB2022 =  driver.find_elements(By.XPATH, \"//td[contains(text(),'22.')]/..\")\n",
    "        \n",
    "        for DB in DB2022:\n",
    "            Champ_name = DB.find_element(By.TAG_NAME, 'div').get_attribute('innerHTML')\n",
    "            Player_idx = DB.find_elements(By.TAG_NAME, 'td')\n",
    "            gameinfo = Player_idx[1].get_attribute('onmouseover')\n",
    "            a = re.findall(\"(?<=\\').+(?=\\')\",gameinfo)\n",
    "\n",
    "            players2[players[n]].append({\n",
    "                    '경기 일자' : Player_idx[0].text,\n",
    "                    '경기 정보' : a[0],\n",
    "                    '선수' : Player_idx[2].text,\n",
    "                    '챔피언' : Champ_name,\n",
    "                    '승패' : Player_idx[5].text,\n",
    "                    'Kill' : Player_idx[6].text,\n",
    "                    'Death' : Player_idx[7].text,\n",
    "                    'Assist' : Player_idx[8].text,\n",
    "                    })\n",
    "             \n",
    "    return players2\n",
    "\n"
   ]
  },
  {
   "cell_type": "code",
   "execution_count": 13,
   "metadata": {},
   "outputs": [],
   "source": [
    "results = DRX()"
   ]
  },
  {
   "cell_type": "code",
   "execution_count": 15,
   "metadata": {},
   "outputs": [],
   "source": [
    "import pandas as pd\n",
    "\n",
    "players = [\n",
    "    'DRX Kingen',\n",
    "    'DRX Pyosik',\n",
    "    'DRX Zeka',\n",
    "    'DRX Deft',\n",
    "    'DRX BeryL'\n",
    "]\n",
    "\n",
    "for n in range(5) :\n",
    "    df = pd.DataFrame(results[players[n]])\n",
    "    df.to_csv(f'{players[n]}.csv', encoding=\"utf-8-sig\")"
   ]
  }
 ],
 "metadata": {
  "kernelspec": {
   "display_name": "study",
   "language": "python",
   "name": "python3"
  },
  "language_info": {
   "codemirror_mode": {
    "name": "ipython",
    "version": 3
   },
   "file_extension": ".py",
   "mimetype": "text/x-python",
   "name": "python",
   "nbconvert_exporter": "python",
   "pygments_lexer": "ipython3",
   "version": "3.10.9"
  },
  "orig_nbformat": 4,
  "vscode": {
   "interpreter": {
    "hash": "24c68d49bcc4df63f15ba5149a098fbbf7214a46d3c7771ef9148062cb2c51b4"
   }
  }
 },
 "nbformat": 4,
 "nbformat_minor": 2
}
