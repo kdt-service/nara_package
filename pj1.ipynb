{
 "cells": [
  {
   "cell_type": "code",
   "execution_count": 259,
   "metadata": {},
   "outputs": [],
   "source": [
    "from selenium import webdriver\n",
    "from selenium.webdriver.chrome.service import Service\n",
    "from selenium.webdriver.common.by import By\n",
    "from selenium.webdriver.common.keys import Keys\n",
    "from webdriver_manager.chrome import ChromeDriverManager\n",
    "driver = webdriver.Chrome(service=Service(ChromeDriverManager().install()))\n",
    "import time\n",
    "\n"
   ]
  },
  {
   "cell_type": "code",
   "execution_count": 260,
   "metadata": {},
   "outputs": [],
   "source": [
    "# 링크 가져오기\n",
    "\n",
    "driver.get('https://lol.inven.co.kr/dataninfo/match/playerList.php')"
   ]
  },
  {
   "cell_type": "code",
   "execution_count": 261,
   "metadata": {},
   "outputs": [],
   "source": [
    "#선수 목록\n",
    "players = [\n",
    "    'DRX Kingen',\n",
    "    'DRX Pyosik',\n",
    "    'DRX Zeka',\n",
    "    'DRX Deft',\n",
    "    'DRX Beryl',\n",
    "    'DRX Juhan'\n",
    "    ]"
   ]
  },
  {
   "cell_type": "code",
   "execution_count": 262,
   "metadata": {},
   "outputs": [],
   "source": [
    "#선수 검색하기\n",
    "find_player = driver.find_element(By.XPATH, '//*[@id=\"playerName\"]')\n",
    "find_player.clear()\n",
    "find_player.send_keys(players[2])\n",
    "find_player.send_keys(Keys.RETURN)  "
   ]
  },
  {
   "cell_type": "code",
   "execution_count": 263,
   "metadata": {},
   "outputs": [],
   "source": [
    "#더보기 클릭\n",
    "add_list = driver.find_element(By.XPATH , '//*[@id=\"morelinetr\"]/td[1]/a/b' )\n",
    "add_list.click()\n",
    "\n"
   ]
  },
  {
   "cell_type": "code",
   "execution_count": 264,
   "metadata": {},
   "outputs": [],
   "source": [
    "#22년도 경기 크롤링\n",
    "DB2022 =  driver.find_elements(By.XPATH, \"//td[contains(text(),'22.')]/..\")"
   ]
  },
  {
   "cell_type": "code",
   "execution_count": 265,
   "metadata": {},
   "outputs": [],
   "source": [
    "#선수 능력치 크롤링\n",
    "\n",
    "Kingen_list = []\n",
    "Pyosik_list = []\n",
    "zeka_list = []\n",
    "Deft_list = []\n",
    "BeryL_list = []\n",
    "\n",
    "for DB in DB2022:\n",
    "    Champ_name = DB.find_element(By.TAG_NAME, 'div').get_attribute('innerHTML')\n",
    "    Player_idx = DB.find_elements(By.TAG_NAME, 'td')\n",
    "    zeka_list.append({\n",
    "        '선수' : Player_idx[2].text,\n",
    "        '챔피언' : Champ_name,\n",
    "        '경기 정보' : Player_idx[1].text,\n",
    "        '승패' : Player_idx[5].text,\n",
    "        'Kill' : Player_idx[6].text,\n",
    "        'Death' : Player_idx[7].text,\n",
    "        'Assist' : Player_idx[8].text,\n",
    "         })\n",
    "    \n",
    "    "
   ]
  },
  {
   "cell_type": "code",
   "execution_count": 5,
   "metadata": {},
   "outputs": [],
   "source": [
    "def DRX():\n",
    "\n",
    "\n",
    "    from selenium import webdriver\n",
    "    from selenium.webdriver.chrome.service import Service\n",
    "    from selenium.webdriver.common.by import By\n",
    "    from selenium.webdriver.common.keys import Keys\n",
    "    from webdriver_manager.chrome import ChromeDriverManager\n",
    "    driver = webdriver.Chrome(service=Service(ChromeDriverManager().install()))\n",
    "    import time\n",
    "\n",
    "    driver.get('https://lol.inven.co.kr/dataninfo/match/playerList.php')\n",
    "\n",
    "    players = [\n",
    "        'DRX Kingen',\n",
    "        'DRX Pyosik',\n",
    "        'DRX Zeka',\n",
    "        'DRX Deft',\n",
    "        'DRX BeryL'\n",
    "    ]\n",
    "    \n",
    "    Kingen_list = []\n",
    "    Pyosik_list = []\n",
    "    Zeka_list = []\n",
    "    Deft_list = []\n",
    "    BeryL_list = []\n",
    "    \n",
    "\n",
    "    for n in range(5):\n",
    "        \n",
    "        find_player = driver.find_element(By.XPATH, '//*[@id=\"playerName\"]')\n",
    "        find_player.clear()\n",
    "        find_player.send_keys(players[n])\n",
    "        find_player.send_keys(Keys.RETURN)  \n",
    "\n",
    "        add_list = driver.find_element(By.XPATH , '//*[@id=\"morelinetr\"]/td[1]/a/b' )\n",
    "        add_list.click()\n",
    "        \n",
    "        time.sleep(1)\n",
    "\n",
    "        DB2022 =  driver.find_elements(By.XPATH, \"//td[contains(text(),'22.')]/..\")\n",
    "\n",
    "        for DB in DB2022:\n",
    "            Champ_name = DB.find_element(By.TAG_NAME, 'div').get_attribute('innerHTML')\n",
    "            Player_idx = DB.find_elements(By.TAG_NAME, 'td')\n",
    "\n",
    "            if n == 'DRX Kingen' :\n",
    "                Kingen_list.append({\n",
    "                    '선수' : Player_idx[2].text,\n",
    "                    '챔피언' : Champ_name,\n",
    "                    '경기 정보' : Player_idx[1].text,\n",
    "                    '승패' : Player_idx[5].text,\n",
    "                    'Kill' : Player_idx[6].text,\n",
    "                    'Death' : Player_idx[7].text,\n",
    "                    'Assist' : Player_idx[8].text,\n",
    "                })\n",
    "            elif n == 'DRX Pyosik':\n",
    "                Pyosik_list.append({\n",
    "                    '선수' : Player_idx[2].text,\n",
    "                    '챔피언' : Champ_name,\n",
    "                    '경기 정보' : Player_idx[1].text,\n",
    "                    '승패' : Player_idx[5].text,\n",
    "                    'Kill' : Player_idx[6].text,\n",
    "                    'Death' : Player_idx[7].text,\n",
    "                    'Assist' : Player_idx[8].text,\n",
    "                })\n",
    "            elif n == 'DRX Zeka':\n",
    "                Zeka_list.append({\n",
    "                    '선수' : Player_idx[2].text,\n",
    "                    '챔피언' : Champ_name,\n",
    "                    '경기 정보' : Player_idx[1].text,\n",
    "                    '승패' : Player_idx[5].text,\n",
    "                    'Kill' : Player_idx[6].text,\n",
    "                    'Death' : Player_idx[7].text,\n",
    "                    'Assist' : Player_idx[8].text,\n",
    "                })\n",
    "            elif n == 'DRX Deft':\n",
    "                Deft_list.append({\n",
    "                    '선수' : Player_idx[2].text,\n",
    "                    '챔피언' : Champ_name,\n",
    "                    '경기 정보' : Player_idx[1].text,\n",
    "                    '승패' : Player_idx[5].text,\n",
    "                    'Kill' : Player_idx[6].text,\n",
    "                    'Death' : Player_idx[7].text,\n",
    "                    'Assist' : Player_idx[8].text,\n",
    "                })\n",
    "            else :\n",
    "                BeryL_list.append({\n",
    "                    '선수' : Player_idx[2].text,\n",
    "                    '챔피언' : Champ_name,\n",
    "                    '경기 정보' : Player_idx[1].text,\n",
    "                    '승패' : Player_idx[5].text,\n",
    "                    'Kill' : Player_idx[6].text,\n",
    "                    'Death' : Player_idx[7].text,\n",
    "                    'Assist' : Player_idx[8].text,\n",
    "                })\n",
    "    return Kingen_list, Pyosik_list, Zeka_list, Deft_list, BeryL_list\n",
    "\n"
   ]
  },
  {
   "cell_type": "code",
   "execution_count": 7,
   "metadata": {},
   "outputs": [],
   "source": [
    "results = DRX()"
   ]
  },
  {
   "cell_type": "code",
   "execution_count": 24,
   "metadata": {},
   "outputs": [],
   "source": [
    "def DRX():\n",
    "\n",
    "\n",
    "    from selenium import webdriver\n",
    "    from selenium.webdriver.chrome.service import Service\n",
    "    from selenium.webdriver.common.by import By\n",
    "    from selenium.webdriver.common.keys import Keys\n",
    "    from webdriver_manager.chrome import ChromeDriverManager\n",
    "    driver = webdriver.Chrome(service=Service(ChromeDriverManager().install()))\n",
    "    import time\n",
    "\n",
    "    driver.get('https://lol.inven.co.kr/dataninfo/match/playerList.php')\n",
    "\n",
    "    players = [\n",
    "        'DRX Kingen',\n",
    "        'DRX Pyosik',\n",
    "        'DRX Zeka',\n",
    "        'DRX Deft',\n",
    "        'DRX BeryL'\n",
    "    ]\n",
    "    \n",
    "    players2 = {\n",
    "        'DRX Kingen' : [],\n",
    "        'DRX Pyosik' : [],\n",
    "        'DRX Zeka' : [],\n",
    "        'DRX Deft' : [],\n",
    "        'DRX BeryL' : []\n",
    "        }   \n",
    "\n",
    "    for n in range(5):\n",
    "        \n",
    "        find_player = driver.find_element(By.XPATH, '//*[@id=\"playerName\"]')\n",
    "        find_player.clear()\n",
    "        find_player.send_keys(players[n])\n",
    "        find_player.send_keys(Keys.RETURN)  \n",
    "\n",
    "        add_list = driver.find_element(By.XPATH , '//*[@id=\"morelinetr\"]/td[1]/a/b' )\n",
    "        add_list.click()\n",
    "        \n",
    "        time.sleep(1)\n",
    "\n",
    "        DB2022 =  driver.find_elements(By.XPATH, \"//td[contains(text(),'22.')]/..\")\n",
    "\n",
    "        for DB in DB2022:\n",
    "            Champ_name = DB.find_element(By.TAG_NAME, 'div').get_attribute('innerHTML')\n",
    "            Player_idx = DB.find_elements(By.TAG_NAME, 'td')\n",
    "\n",
    "            results = players2[players[n]].append({\n",
    "                        '선수' : Player_idx[2].text,\n",
    "                        '챔피언' : Champ_name,\n",
    "                        '경기 정보' : Player_idx[1].text,\n",
    "                        '승패' : Player_idx[5].text,\n",
    "                        'Kill' : Player_idx[6].text,\n",
    "                        'Death' : Player_idx[7].text,\n",
    "                        'Assist' : Player_idx[8].text\n",
    "                        })\n",
    "             \n",
    "    return results\n",
    "\n"
   ]
  },
  {
   "cell_type": "code",
   "execution_count": 26,
   "metadata": {},
   "outputs": [],
   "source": [
    "results = DRX()"
   ]
  },
  {
   "cell_type": "code",
   "execution_count": 27,
   "metadata": {},
   "outputs": [
    {
     "data": {
      "text/plain": [
       "[]"
      ]
     },
     "execution_count": 27,
     "metadata": {},
     "output_type": "execute_result"
    }
   ],
   "source": [
    "results"
   ]
  },
  {
   "cell_type": "code",
   "execution_count": 22,
   "metadata": {},
   "outputs": [],
   "source": [
    "players2 = {\n",
    "        'DRX Kingen' : [],\n",
    "        'DRX Pyosik' : [],\n",
    "        'DRX Zeka' : [],\n",
    "        'DRX Deft' : [],       \n",
    "        'DRX BeryL' : []\n",
    "        }   \n"
   ]
  },
  {
   "cell_type": "code",
   "execution_count": 23,
   "metadata": {},
   "outputs": [
    {
     "data": {
      "text/plain": [
       "[]"
      ]
     },
     "execution_count": 23,
     "metadata": {},
     "output_type": "execute_result"
    }
   ],
   "source": [
    "players2[players[0]]"
   ]
  },
  {
   "cell_type": "code",
   "execution_count": null,
   "metadata": {},
   "outputs": [],
   "source": []
  }
 ],
 "metadata": {
  "kernelspec": {
   "display_name": "study",
   "language": "python",
   "name": "python3"
  },
  "language_info": {
   "codemirror_mode": {
    "name": "ipython",
    "version": 3
   },
   "file_extension": ".py",
   "mimetype": "text/x-python",
   "name": "python",
   "nbconvert_exporter": "python",
   "pygments_lexer": "ipython3",
   "version": "3.10.9"
  },
  "orig_nbformat": 4,
  "vscode": {
   "interpreter": {
    "hash": "24c68d49bcc4df63f15ba5149a098fbbf7214a46d3c7771ef9148062cb2c51b4"
   }
  }
 },
 "nbformat": 4,
 "nbformat_minor": 2
}
